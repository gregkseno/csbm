{
 "cells": [
  {
   "cell_type": "code",
   "execution_count": 1,
   "id": "729e75c8-837b-463b-b4e6-d3fc71f4b7f3",
   "metadata": {},
   "outputs": [],
   "source": [
    "%load_ext autoreload\n",
    "%autoreload 2\n",
    "import sys \n",
    "sys.path.append('scripts')\n",
    "sys.path.append('src/')"
   ]
  },
  {
   "cell_type": "code",
   "execution_count": 6,
   "id": "e6f4a406-3e81-4519-8325-dd89ee4e77ae",
   "metadata": {},
   "outputs": [],
   "source": [
    "import os\n",
    "from typing import Optional\n",
    "from PIL import Image\n",
    "from tqdm.auto import tqdm\n",
    "\n",
    "import numpy as np\n",
    "import torch\n",
    "from torch.utils.data import DataLoader\n",
    "from torchvision import transforms\n",
    "\n",
    "from pytorch_fid.fid_score import calculate_fid_given_paths\n",
    "\n",
    "from csbm.data import BaseDataset, CouplingDataset\n",
    "from csbm.metrics import CMMD, FID, MSE, LPIPS\n",
    "\n",
    "device = 'cuda' if torch.cuda.is_available() else 'cpu'"
   ]
  },
  {
   "cell_type": "code",
   "execution_count": 22,
   "id": "2bc7f8e4",
   "metadata": {},
   "outputs": [],
   "source": [
    "class SomeDataset(BaseDataset):\n",
    "    transform: Optional[transforms.Compose] = None\n",
    "    \n",
    "    def __init__(\n",
    "        self, \n",
    "        data_dir: str,\n",
    "    ):\n",
    "        self.data_dir= data_dir\n",
    "\n",
    "        self.dataset = os.listdir(data_dir)\n",
    "        self.dataset = [os.path.join(data_dir, x) for x in self.dataset]\n",
    "        self.dataset = list(filter(lambda x: x.endswith('.jpg'), self.dataset))\n",
    "        # self.dataset = sorted(self.dataset)\n",
    "\n",
    "    def __getitem__(self, index):\n",
    "        transform = transforms.ToTensor()\n",
    "        image = Image.open(self.dataset[index])\n",
    "        image = image.convert('RGB')\n",
    "        image = transform(image)\n",
    "        return image\n",
    "\n",
    "    def __len__(self):\n",
    "        return len(self.dataset)\n",
    "    \n",
    "    def repeat(self, n: int, max_len: int):\n",
    "        self.dataset = self.dataset * n\n",
    "        self.dataset = self.dataset[:max_len]"
   ]
  },
  {
   "cell_type": "markdown",
   "id": "d036d2f7",
   "metadata": {},
   "source": [
    "## FID"
   ]
  },
  {
   "cell_type": "code",
   "execution_count": null,
   "id": "4b385277-c54c-44a1-ba98-2e24bfe97eff",
   "metadata": {},
   "outputs": [
    {
     "name": "stderr",
     "output_type": "stream",
     "text": [
      "100%|██████████████████████████████████████████████████████████████████████████████████████████████████████| 370/370 [00:26<00:00, 14.17it/s]\n",
      "100%|██████████████████████████████████████████████████████████████████████████████████████████████████████| 506/506 [00:35<00:00, 14.08it/s]\n"
     ]
    },
    {
     "name": "stdout",
     "output_type": "stream",
     "text": [
      "Iter: 4, FID: 9.916346980044523\n"
     ]
    }
   ],
   "source": [
    "iteration = 4\n",
    "ref_data_path = 'data/celeba/female_test'\n",
    "\n",
    "for exp_name in ['dim_128_aplha_0.005_27.01.25_21:56:36']:# , 'dim_128_aplha_0.01_14.01.25_21:22:30']:\n",
    "    gen_data_path = f'experiments/quantized_images/celeba/uniform/{exp_name}/checkpoints/forward_{iteration}/generation'\n",
    "    fid = calculate_fid_given_paths(\n",
    "        paths=[ref_data_path, gen_data_path],\n",
    "        dims=2048,\n",
    "        batch_size=32,\n",
    "        device=device,\n",
    "    )\n",
    "    print(f'Iter: {iteration}, FID: {fid}')"
   ]
  },
  {
   "cell_type": "code",
   "execution_count": 23,
   "id": "fc8580d5-bb77-4640-8ed5-e71cec460ac8",
   "metadata": {},
   "outputs": [
    {
     "name": "stderr",
     "output_type": "stream",
     "text": [
      "/trinity/home/g.ksenofontov/anaconda3/envs/csbm/lib/python3.12/site-packages/torch_fidelity/feature_extractor_inceptionv3.py:85: FutureWarning: You are using `torch.load` with `weights_only=False` (the current default value), which uses the default pickle module implicitly. It is possible to construct malicious pickle data which will execute arbitrary code during unpickling (See https://github.com/pytorch/pytorch/blob/main/SECURITY.md#untrusted-models for more details). In a future release, the default value for `weights_only` will be flipped to `True`. This limits the functions that could be executed during unpickling. Arbitrary objects will no longer be allowed to be loaded via this mode unless they are explicitly allowlisted by the user via `torch.serialization.add_safe_globals`. We recommend you start setting `weights_only=True` for any use case where you don't have full control of the loaded file. Please open an issue on GitHub for any issues related to this experimental feature.\n",
      "  state_dict = torch.load(feature_extractor_weights_path)\n"
     ]
    },
    {
     "data": {
      "application/vnd.jupyter.widget-view+json": {
       "model_id": "01f30cdcfdf84374a2294668dfd6d4cd",
       "version_major": 2,
       "version_minor": 0
      },
      "text/plain": [
       "  0%|          | 0/370 [00:00<?, ?it/s]"
      ]
     },
     "metadata": {},
     "output_type": "display_data"
    },
    {
     "name": "stdout",
     "output_type": "stream",
     "text": [
      "Iter: 4, FID: 11.367501258850098\n"
     ]
    }
   ],
   "source": [
    "iteration = 4\n",
    "ref_data_path = 'data/celeba/female_test'\n",
    "\n",
    "for exp_name in ['dim_128_aplha_0.005_27.01.25_21:56:36']:#, 'dim_128_aplha_0.01_14.01.25_21:22:30']: \n",
    "    fid = FID().to(device)\n",
    "    gen_data_path = f'experiments/quantized_images/celeba/uniform/{exp_name}/checkpoints/forward_{iteration}/generation'\n",
    "\n",
    "    dataset = CouplingDataset(SomeDataset(data_dir=ref_data_path), SomeDataset(data_dir=gen_data_path))\n",
    "    dataloader = DataLoader(dataset, batch_size=32)\n",
    "    for real_images, fake_images in tqdm(dataloader):\n",
    "        real_images = real_images.to(device)\n",
    "        fake_images = fake_images.to(device)\n",
    "        fid.update(real_images, real=True)\n",
    "        fid.update(fake_images, real=False)    \n",
    "    print(f'Iter: {iteration}, FID: {fid.compute().detach().cpu().numpy()}')"
   ]
  },
  {
   "cell_type": "markdown",
   "id": "a3e4bfd6",
   "metadata": {},
   "source": [
    "## CMMD"
   ]
  },
  {
   "cell_type": "code",
   "execution_count": null,
   "id": "fa120680",
   "metadata": {},
   "outputs": [],
   "source": [
    "if os.path.exists(embd_ref_path):\n",
    "    embs_ref = np.load(embd_ref_path).astype(\"float32\")\n",
    "else:\n",
    "    embs_ref = compute_embeddings_for_dir(\n",
    "        os.path.join(ref_data_path),\n",
    "        ClipEmbeddingModel(), batch_size, max_count\n",
    "    ).astype(\"float32\")\n",
    "    np.save(embd_ref_path, embs_ref)"
   ]
  },
  {
   "cell_type": "code",
   "execution_count": null,
   "id": "e876bd76-95c9-425c-ab8f-24770486d2bf",
   "metadata": {},
   "outputs": [],
   "source": [
    "for exp_name in ['dim_128_aplha_0.005_27.01.25_21:56:36']: # ['dim_128_aplha_0.01_14.01.25_21:22:30']: #, 'small_dim_128_aplha_0.01_20.01.25_16:43:26']: #'tiny_dim_128_aplha_0.01_17.01.25_22:02:58', 'tiny_dim_128_aplha_0.01_19.01.25_21:21:21']:\n",
    "    for iteration in range(4, 5):\n",
    "        gen_data_path = f'../experiments/quantized_images/uniform/{exp_name}/checkpoints/forward_{iteration}/generation'\n",
    "        cmmd = calculate_cmmd(\n",
    "            eval_dir=gen_data_path,\n",
    "            embs_ref=embs_ref,\n",
    "            batch_size=batch_size,\n",
    "            max_count=max_count\n",
    "        )\n",
    "        print(f'CMMD: {cmmd}')"
   ]
  },
  {
   "cell_type": "code",
   "execution_count": null,
   "id": "7bdf5314",
   "metadata": {},
   "outputs": [
    {
     "data": {
      "application/vnd.jupyter.widget-view+json": {
       "model_id": "b1e8c829b49240d7b0b5ed44beae2348",
       "version_major": 2,
       "version_minor": 0
      },
      "text/plain": [
       "  0%|          | 0/506 [00:00<?, ?it/s]"
      ]
     },
     "metadata": {},
     "output_type": "display_data"
    },
    {
     "name": "stdout",
     "output_type": "stream",
     "text": [
      "Iter: 4, CMMD: 0.17380714416503906\n"
     ]
    }
   ],
   "source": [
    "iteration = 4\n",
    "ref_data_path = 'data/celeba/female_test'\n",
    "\n",
    "for exp_name in ['dim_128_aplha_0.005_27.01.25_21:56:36']:#, 'dim_128_aplha_0.01_14.01.25_21:22:30']: \n",
    "    cmmd = CMMD().to(device)\n",
    "    gen_data_path = f'experiments/quantized_images/celeba/uniform/{exp_name}/checkpoints/forward_{iteration}/generation'\n",
    "\n",
    "    dataset = CouplingDataset(SomeDataset(data_dir=ref_data_path), SomeDataset(data_dir=gen_data_path))\n",
    "    dataloader = DataLoader(dataset, batch_size=32)\n",
    "    for real_images, fake_images in tqdm(dataloader):\n",
    "        real_images = real_images.to(device)\n",
    "        fake_images = fake_images.to(device)\n",
    "        cmmd.update(real_images, real=True)\n",
    "        cmmd.update(fake_images, real=False)\n",
    "    \n",
    "    print(f'Iter: {iteration}, CMMD: {cmmd.compute().detach().cpu().numpy()}')"
   ]
  },
  {
   "cell_type": "markdown",
   "id": "1eaaf787",
   "metadata": {},
   "source": [
    "## MSE"
   ]
  },
  {
   "cell_type": "code",
   "execution_count": null,
   "id": "f55dbab6-87ed-43c3-84e1-f1525cc22e6f",
   "metadata": {
    "scrolled": true
   },
   "outputs": [],
   "source": [
    "for exp_name in ['small_dim_128_aplha_0.01_20.01.25_16:43:26']:\n",
    "    for iteration in range(2, 7):\n",
    "        gen_data_path = f'../experiments/quantized_images/uniform/{exp_name}/checkpoints/forward_{iteration}/generation'\n",
    "        mse = calculate_mse(\n",
    "            eval_dir=gen_data_path,\n",
    "            ref_dir='../data/celeba/',\n",
    "            batch_size=batch_size,\n",
    "            num_workers=num_workers\n",
    "        )\n",
    "        print(f'Iter: {iteration}, : {mse}')"
   ]
  },
  {
   "cell_type": "markdown",
   "id": "9604f874",
   "metadata": {},
   "source": [
    "# LPIPS"
   ]
  },
  {
   "cell_type": "code",
   "execution_count": 21,
   "id": "43be443c",
   "metadata": {},
   "outputs": [
    {
     "data": {
      "application/vnd.jupyter.widget-view+json": {
       "model_id": "bd1e787288d446d9a794aee287b58fa4",
       "version_major": 2,
       "version_minor": 0
      },
      "text/plain": [
       "  0%|          | 0/264 [00:00<?, ?it/s]"
      ]
     },
     "metadata": {},
     "output_type": "display_data"
    },
    {
     "name": "stdout",
     "output_type": "stream",
     "text": [
      "Iter: 4, LPIPS: 0.17472831904888153\n"
     ]
    }
   ],
   "source": [
    "iteration = 4\n",
    "ref_data_path = 'data/celeba/male_test'\n",
    "\n",
    "for exp_name in ['dim_128_aplha_0.005_27.01.25_21:56:36']:#, 'dim_128_aplha_0.01_14.01.25_21:22:30']: \n",
    "    lpip = LPIPS(normalize=True, reduction='mean').to(device)\n",
    "    gen_data_path = f'experiments/quantized_images/celeba/uniform/{exp_name}/checkpoints/forward_{iteration}/generation'\n",
    "\n",
    "    dataset = CouplingDataset(SomeDataset(data_dir=ref_data_path), SomeDataset(data_dir=gen_data_path))\n",
    "    dataloader = DataLoader(dataset, batch_size=32)\n",
    "    for fake_images, real_images in tqdm(dataloader):\n",
    "        fake_images = fake_images.to(device)\n",
    "        real_images = real_images.to(device)\n",
    "        lpip.update(fake_images, real_images)\n",
    "    \n",
    "    print(f'Iter: {iteration}, LPIPS: {lpip.compute().detach().cpu().numpy()}')"
   ]
  },
  {
   "cell_type": "code",
   "execution_count": null,
   "id": "2e6bcb38",
   "metadata": {},
   "outputs": [
    {
     "name": "stdout",
     "output_type": "stream",
     "text": [
      "Setting up [LPIPS] perceptual loss: trunk [alex], v[0.1], spatial [off]\n"
     ]
    },
    {
     "name": "stderr",
     "output_type": "stream",
     "text": [
      "/trinity/home/g.ksenofontov/anaconda3/envs/csbm/lib/python3.12/site-packages/torchvision/models/_utils.py:208: UserWarning: The parameter 'pretrained' is deprecated since 0.13 and may be removed in the future, please use 'weights' instead.\n",
      "  warnings.warn(\n",
      "/trinity/home/g.ksenofontov/anaconda3/envs/csbm/lib/python3.12/site-packages/torchvision/models/_utils.py:223: UserWarning: Arguments other than a weight enum or `None` for 'weights' are deprecated since 0.13 and may be removed in the future. The current behavior is equivalent to passing `weights=AlexNet_Weights.IMAGENET1K_V1`. You can also use `weights=AlexNet_Weights.DEFAULT` to get the most up-to-date weights.\n",
      "  warnings.warn(msg)\n"
     ]
    },
    {
     "name": "stdout",
     "output_type": "stream",
     "text": [
      "Loading model from: /trinity/home/g.ksenofontov/anaconda3/envs/csbm/lib/python3.12/site-packages/lpips/weights/v0.1/alex.pth\n"
     ]
    },
    {
     "name": "stderr",
     "output_type": "stream",
     "text": [
      "/trinity/home/g.ksenofontov/anaconda3/envs/csbm/lib/python3.12/site-packages/lpips/lpips.py:107: FutureWarning: You are using `torch.load` with `weights_only=False` (the current default value), which uses the default pickle module implicitly. It is possible to construct malicious pickle data which will execute arbitrary code during unpickling (See https://github.com/pytorch/pytorch/blob/main/SECURITY.md#untrusted-models for more details). In a future release, the default value for `weights_only` will be flipped to `True`. This limits the functions that could be executed during unpickling. Arbitrary objects will no longer be allowed to be loaded via this mode unless they are explicitly allowlisted by the user via `torch.serialization.add_safe_globals`. We recommend you start setting `weights_only=True` for any use case where you don't have full control of the loaded file. Please open an issue on GitHub for any issues related to this experimental feature.\n",
      "  self.load_state_dict(torch.load(model_path, map_location='cpu'), strict=False)\n"
     ]
    },
    {
     "data": {
      "application/vnd.jupyter.widget-view+json": {
       "model_id": "2d6200ad45bb4224bdc396492ec78d31",
       "version_major": 2,
       "version_minor": 0
      },
      "text/plain": [
       "0it [00:00, ?it/s]"
      ]
     },
     "metadata": {},
     "output_type": "display_data"
    },
    {
     "name": "stdout",
     "output_type": "stream",
     "text": [
      "Error: The size of tensor a (32) must match the size of tensor b (9) at non-singleton dimension 0\n",
      "Iter: 4, LPIPS: 0.4421703618341688\n"
     ]
    }
   ],
   "source": [
    "import lpips\n",
    "\n",
    "iteration = 4\n",
    "ref_data_path = 'data/celeba/female_test'\n",
    "\n",
    "for exp_name in ['dim_128_aplha_0.005_27.01.25_21:56:36']:#, 'dim_128_aplha_0.01_14.01.25_21:22:30']: \n",
    "    lpip = lpips.LPIPS(net='alex', lpips=True).to(device).eval()\n",
    "    gen_data_path = f'experiments/quantized_images/celeba/uniform/{exp_name}/checkpoints/forward_{iteration}/generation'\n",
    "    metric = 0\n",
    "\n",
    "    real_loader = DataLoader(\n",
    "        SomeDataset(data_dir=ref_data_path), batch_size=32\n",
    "    )\n",
    "    fake_loader = DataLoader(\n",
    "        SomeDataset(data_dir=gen_data_path), batch_size=32\n",
    "    )\n",
    "    for fake_images, real_images in tqdm(zip(fake_loader, real_loader)):\n",
    "        fake_images = 2 * fake_images.to(device) - 1\n",
    "        real_images = 2 * real_images.to(device) - 1\n",
    "        try:\n",
    "            metric += lpip(fake_images, real_images).sum().item()\n",
    "        except RuntimeError as e:\n",
    "            print(f'Error: {e}')\n",
    "            break\n",
    "    \n",
    "    print(f'Iter: {iteration}, LPIPS: {metric/11817}')"
   ]
  }
 ],
 "metadata": {
  "kernelspec": {
   "display_name": "Python 3 (ipykernel)",
   "language": "python",
   "name": "python3"
  }
 },
 "nbformat": 4,
 "nbformat_minor": 5
}
