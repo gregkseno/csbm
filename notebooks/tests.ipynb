{
 "cells": [
  {
   "cell_type": "code",
   "execution_count": null,
   "metadata": {},
   "outputs": [],
   "source": [
    "%load_ext autoreload\n",
    "%autoreload 2\n",
    "import sys \n",
    "sys.path.append('src')"
   ]
  },
  {
   "cell_type": "code",
   "execution_count": null,
   "metadata": {},
   "outputs": [],
   "source": [
    "import numpy as np\n",
    "import pandas as pd\n",
    "import torch\n",
    "from torch.utils.data import DataLoader\n",
    "from transformers import PreTrainedTokenizerFast, pipeline\n",
    "from tqdm.auto import tqdm\n",
    "\n",
    "from csbm.data import AmazonDataset, YelpDataset, DiscreteGaussianDataset, Prior\n",
    "from csbm.utils import convert_to_numpy, fig2img, visualize_trajectory_toy\n",
    "from csbm.models.toy import D3PM\n",
    "\n",
    "import seaborn as sns\n",
    "from matplotlib import pyplot as plt\n",
    "\n",
    "device = 'cuda' if torch.cuda.is_available() else 'cpu'"
   ]
  },
  {
   "cell_type": "code",
   "execution_count": null,
   "metadata": {},
   "outputs": [],
   "source": [
    "tokenizer = PreTrainedTokenizerFast(\n",
    "    tokenizer_file='checkpoints/tokenizer_amazon.json',\n",
    "    padding_side='right',\n",
    "    truncation_side='right',\n",
    "    bos_token='<s>',\n",
    "    pad_token='<pad>',\n",
    "    unk_token='<unk>',\n",
    ")\n",
    "dataset = AmazonDataset(\n",
    "    sentiment='all', \n",
    "    data_dir='data', \n",
    "    # tokenizer=tokenizer,\n",
    "    # max_length=45,\n",
    "    split='all',\n",
    ")"
   ]
  },
  {
   "cell_type": "code",
   "execution_count": null,
   "metadata": {},
   "outputs": [],
   "source": [
    "from tqdm import tqdm\n",
    "\n",
    "max_length = 0\n",
    "pbar = tqdm(dataset, desc=f'max_length: {max_length}') # type: ignore\n",
    "for text in pbar:\n",
    "    lenght = len(tokenizer.encode(text))\n",
    "    if lenght > max_length:\n",
    "        max_length = lenght\n",
    "        pbar.set_description(f'max_length: {max_length}')\n"
   ]
  },
  {
   "cell_type": "code",
   "execution_count": null,
   "metadata": {},
   "outputs": [],
   "source": [
    "trainset = pd.read_json('data/amazon/amazon_small_train.jsonl', lines=True)\n",
    "testset = pd.read_json('data/amazon/amazon_small_test.jsonl', lines=True)\n",
    "evalset = pd.read_json('data/amazon/amazon_small_eval.jsonl', lines=True)"
   ]
  },
  {
   "cell_type": "code",
   "execution_count": null,
   "metadata": {},
   "outputs": [],
   "source": [
    "trainset.to_json('data/amazon/amazon_small_train.jsonl', lines=True, orient='records')\n",
    "testset.to_json('data/amazon/amazon_small_test.jsonl', lines=True, orient='records')\n",
    "evalset.to_json('data/amazon/amazon_small_eval.jsonl', lines=True, orient='records')"
   ]
  },
  {
   "cell_type": "code",
   "execution_count": null,
   "metadata": {},
   "outputs": [],
   "source": [
    "# allset = pd.concat([trainset, testset, evalset], ignore_index=True)\n",
    "# allset.to_json('data/yelp/amazon_small_all.jsonl', orient='records', lines=True)\n",
    "allset = pd.read_json('data/amazon/amazon_small_allset.jsonl', lines=True)"
   ]
  },
  {
   "cell_type": "code",
   "execution_count": null,
   "metadata": {},
   "outputs": [],
   "source": [
    "len(allset)"
   ]
  },
  {
   "cell_type": "code",
   "execution_count": null,
   "metadata": {},
   "outputs": [],
   "source": [
    "!which python"
   ]
  },
  {
   "cell_type": "code",
   "execution_count": null,
   "metadata": {},
   "outputs": [],
   "source": [
    "from csbm.data import AmazonDataset\n",
    "\n",
    "dataset = AmazonDataset(sentiment='all', data_dir='data/', split='all')\n",
    "len(dataset)"
   ]
  },
  {
   "cell_type": "code",
   "execution_count": null,
   "metadata": {},
   "outputs": [],
   "source": [
    "device = 'cpu'"
   ]
  },
  {
   "cell_type": "code",
   "execution_count": null,
   "metadata": {},
   "outputs": [],
   "source": [
    "num_categories = 10\n",
    "num_timesteps = 10\n",
    "\n",
    "dataset = DiscreteGaussianDataset(5000, dim=2, num_categories=num_categories, train=False)"
   ]
  },
  {
   "cell_type": "code",
   "execution_count": 264,
   "metadata": {},
   "outputs": [],
   "source": [
    "global_min = 0.0\n",
    "global_max = 1\n",
    "\n",
    "cmap = 'inferno'"
   ]
  },
  {
   "cell_type": "code",
   "execution_count": 278,
   "metadata": {},
   "outputs": [
    {
     "data": {
      "image/png": "[encoded data removed]",
      "text/plain": [
       "<Figure size 640x480 with 1 Axes>"
      ]
     },
     "metadata": {},
     "output_type": "display_data"
    }
   ],
   "source": [
    "alpha = 0.4\n",
    "\n",
    "prior = Prior(\n",
    "    alpha=alpha, \n",
    "    num_categories=num_categories, \n",
    "    num_timesteps=num_timesteps, \n",
    "    num_skip_steps=1, \n",
    "    prior_type='uniform',\n",
    "    eps=1e-20,\n",
    ").to(device)\n",
    "\n",
    "plt.figure(frameon=False)\n",
    "plt.imshow(prior.p_onestep, vmin=global_min, vmax=global_max, cmap=cmap)\n",
    "plt.axis('off') \n",
    "plt.show()\n"
   ]
  },
  {
   "cell_type": "code",
   "execution_count": 274,
   "metadata": {},
   "outputs": [
    {
     "data": {
      "image/png": "[encoded data removed]",
      "text/plain": [
       "<Figure size 640x480 with 1 Axes>"
      ]
     },
     "metadata": {},
     "output_type": "display_data"
    }
   ],
   "source": [
    "alpha = 0.8\n",
    "\n",
    "prior = Prior(\n",
    "    alpha=alpha, \n",
    "    num_categories=num_categories, \n",
    "    num_timesteps=num_timesteps, \n",
    "    num_skip_steps=1, \n",
    "    prior_type='gaussian',\n",
    "    eps=1e-20,\n",
    ").to(device)\n",
    "\n",
    "plt.figure(frameon=False)\n",
    "plt.imshow(prior.p_onestep, vmin=global_min, vmax=global_max, cmap=cmap)\n",
    "plt.axis('off') \n",
    "plt.show()"
   ]
  },
  {
   "cell_type": "code",
   "execution_count": 267,
   "metadata": {},
   "outputs": [
    {
     "data": {
      "image/png": "[encoded data removed]",
      "text/plain": [
       "<Figure size 640x480 with 1 Axes>"
      ]
     },
     "metadata": {},
     "output_type": "display_data"
    }
   ],
   "source": [
    "gradient = np.linspace(global_min, global_max, 256)\n",
    "plt.figure(frameon=False)\n",
    "plt.imshow(\n",
    "    gradient[:, None], aspect=0.05, origin='lower', cmap=cmap,\n",
    "    extent=(0, global_max/len(gradient), 0, global_max)\n",
    ")\n",
    "plt.xticks([])\n",
    "plt.gca().yaxis.tick_right()\n",
    "plt.show()"
   ]
  },
  {
   "cell_type": "code",
   "execution_count": null,
   "metadata": {},
   "outputs": [],
   "source": [
    "num_trajectories = 1\n",
    "traj_start = torch.tensor([[20, 4]]).to(device)\n",
    "traj_end = torch.tensor([[2, 12]]).to(device)\n",
    "\n",
    "trajectory = [traj_start]\n",
    "for t in range(num_timesteps):\n",
    "    t = torch.full((num_trajectories,), t, device=device)\n",
    "    trajectory.append(prior.sample_bridge(traj_start, traj_end, t))\n",
    "trajectory.append(traj_end)\n",
    "trajectory = torch.stack(trajectory)\n",
    "\n",
    "trajectory = convert_to_numpy(trajectory)\n",
    "visualize_trajectory_toy(dataset[:5000], trajectory, fb='forward', dpi=100)"
   ]
  }
 ],
 "metadata": {
  "kernelspec": {
   "display_name": "Python 3 (ipykernel)",
   "language": "python",
   "name": "python3"
  },
  "language_info": {
   "codemirror_mode": {
    "name": "ipython",
    "version": 3
   },
   "file_extension": ".py",
   "mimetype": "text/x-python",
   "name": "python",
   "nbconvert_exporter": "python",
   "pygments_lexer": "ipython3",
   "version": "3.12.10"
  }
 },
 "nbformat": 4,
 "nbformat_minor": 2
}
