{
 "cells": [
  {
   "cell_type": "code",
   "execution_count": 1,
   "id": "94084e17-bc32-490d-a043-31b0cb951ce7",
   "metadata": {},
   "outputs": [],
   "source": [
    "%load_ext autoreload\n",
    "%autoreload 2\n",
    "import sys \n",
    "sys.path.append('../src/')"
   ]
  },
  {
   "cell_type": "code",
   "execution_count": 5,
   "id": "88318f9a-0f99-4224-a808-ad76f1679e75",
   "metadata": {},
   "outputs": [],
   "source": [
    "import torch\n",
    "import matplotlib.pyplot as plt\n",
    "import pandas as pd\n",
    "import numpy as np\n",
    "import ot\n",
    "\n",
    "from dasbm.data import DiscreteGaussianDataset, DiscreteSwissRollDataset\n",
    "from dasbm.data import Prior"
   ]
  },
  {
   "cell_type": "code",
   "execution_count": 15,
   "id": "1a9327d6-87e5-44ae-89b4-efb9c746c3a2",
   "metadata": {},
   "outputs": [
    {
     "data": {
      "text/plain": [
       "tensor([[25.0000, 25.0000],\n",
       "        [46.8750,  3.1250],\n",
       "        [ 6.2500, 43.7500],\n",
       "        [50.0000, 50.0000]])"
      ]
     },
     "execution_count": 15,
     "metadata": {},
     "output_type": "execute_result"
    }
   ],
   "source": [
    "(torch.tensor([[0.0, 0.0], [1.75, -1.75], [-1.5, 1.5], [2, 2]]) + 2) / 2 * 25"
   ]
  },
  {
   "cell_type": "code",
   "execution_count": null,
   "id": "76b720b0-e756-40bf-8860-9153da836cbe",
   "metadata": {},
   "outputs": [],
   "source": [
    "ot.sinkhorn(a, b, M, reg, method='sinkhorn', numItermax=1000, stopThr=1e-09, verbose=False, log=False, warn=True, warmstart=None, **kwargs)"
   ]
  }
 ],
 "metadata": {
  "kernelspec": {
   "display_name": "Python 3 (ipykernel)",
   "language": "python",
   "name": "python3"
  },
  "language_info": {
   "codemirror_mode": {
    "name": "ipython",
    "version": 3
   },
   "file_extension": ".py",
   "mimetype": "text/x-python",
   "name": "python",
   "nbconvert_exporter": "python",
   "pygments_lexer": "ipython3",
   "version": "3.12.8"
  }
 },
 "nbformat": 4,
 "nbformat_minor": 5
}
